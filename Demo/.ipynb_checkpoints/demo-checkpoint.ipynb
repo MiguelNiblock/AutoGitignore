{
 "cells": [
  {
   "cell_type": "code",
   "execution_count": 1,
   "metadata": {
    "ExecuteTime": {
     "end_time": "2020-07-12T00:32:10.854987Z",
     "start_time": "2020-07-12T00:32:10.839683Z"
    }
   },
   "outputs": [
    {
     "data": {
      "text/plain": [
       "['.ipynb_checkpoints',\n",
       " 'Dev',\n",
       " 'AutoGitignore.py',\n",
       " 'Demo',\n",
       " '__pycache__',\n",
       " '.gitignore',\n",
       " '.git',\n",
       " '.vscode']"
      ]
     },
     "execution_count": 1,
     "metadata": {},
     "output_type": "execute_result"
    }
   ],
   "source": [
    "import os\n",
    "\n",
    "os.chdir('..')\n",
    "\n",
    "os.listdir()"
   ]
  },
  {
   "cell_type": "code",
   "execution_count": 3,
   "metadata": {
    "ExecuteTime": {
     "end_time": "2020-07-12T00:32:17.846809Z",
     "start_time": "2020-07-12T00:32:17.843641Z"
    }
   },
   "outputs": [],
   "source": [
    "from AutoGitignore import AutoGitignore\n",
    "\n",
    "autoGI = AutoGitignore()\n",
    "\n",
    "os.chdir('Demo')"
   ]
  },
  {
   "cell_type": "code",
   "execution_count": 4,
   "metadata": {
    "ExecuteTime": {
     "end_time": "2020-07-12T00:32:20.502539Z",
     "start_time": "2020-07-12T00:32:20.492692Z"
    },
    "scrolled": true
   },
   "outputs": [
    {
     "name": "stdout",
     "output_type": "stream",
     "text": [
      "Searching for markers in folders...\n",
      "Keeping files inside subfolders...\n",
      "\n",
      "Files to Ignore:\n",
      "\n",
      "include.txt\n",
      "/3.0/3.2/other.txt\n",
      "/3.0/3.1/3.1.1/other.txt\n",
      "/3.0/3.1/other.txt\n",
      "/3.0/other.txt\n",
      "/.ipynb_checkpoints/demo-checkpoint.ipynb\n",
      "/2.0/2.2/other.txt\n",
      "/2.0/other.txt\n",
      "/result.gitignore\n",
      "/demo.py\n",
      "/demo.ipynb\n",
      "\n"
     ]
    }
   ],
   "source": [
    "autoGI.run()"
   ]
  },
  {
   "cell_type": "code",
   "execution_count": 5,
   "metadata": {
    "ExecuteTime": {
     "end_time": "2020-07-12T00:32:22.134373Z",
     "start_time": "2020-07-12T00:32:22.129307Z"
    }
   },
   "outputs": [
    {
     "name": "stdout",
     "output_type": "stream",
     "text": [
      "['/3.0/3.1/3.1.2/', '/1.0/', '/2.0/2.1/']\n"
     ]
    }
   ],
   "source": [
    "print(autoGI.passlst)"
   ]
  },
  {
   "cell_type": "code",
   "execution_count": 7,
   "metadata": {
    "ExecuteTime": {
     "end_time": "2020-07-12T00:32:30.574628Z",
     "start_time": "2020-07-12T00:32:30.569465Z"
    }
   },
   "outputs": [
    {
     "name": "stdout",
     "output_type": "stream",
     "text": [
      "saving result.gitignore\n",
      "done\n"
     ]
    }
   ],
   "source": [
    "autoGI.save('result.gitignore')"
   ]
  },
  {
   "cell_type": "code",
   "execution_count": null,
   "metadata": {},
   "outputs": [],
   "source": []
  }
 ],
 "metadata": {
  "kernelspec": {
   "display_name": "Python 3",
   "language": "python",
   "name": "python3"
  },
  "toc": {
   "base_numbering": 1,
   "nav_menu": {},
   "number_sections": true,
   "sideBar": true,
   "skip_h1_title": false,
   "title_cell": "Table of Contents",
   "title_sidebar": "Contents",
   "toc_cell": false,
   "toc_position": {},
   "toc_section_display": true,
   "toc_window_display": false
  },
  "varInspector": {
   "cols": {
    "lenName": 16,
    "lenType": 16,
    "lenVar": 40
   },
   "kernels_config": {
    "python": {
     "delete_cmd_postfix": "",
     "delete_cmd_prefix": "del ",
     "library": "var_list.py",
     "varRefreshCmd": "print(var_dic_list())"
    },
    "r": {
     "delete_cmd_postfix": ") ",
     "delete_cmd_prefix": "rm(",
     "library": "var_list.r",
     "varRefreshCmd": "cat(var_dic_list()) "
    }
   },
   "types_to_exclude": [
    "module",
    "function",
    "builtin_function_or_method",
    "instance",
    "_Feature"
   ],
   "window_display": false
  }
 },
 "nbformat": 4,
 "nbformat_minor": 2
}
