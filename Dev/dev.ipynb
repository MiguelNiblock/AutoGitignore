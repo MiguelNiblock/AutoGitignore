{
 "cells": [
  {
   "cell_type": "code",
   "execution_count": 1,
   "metadata": {
    "ExecuteTime": {
     "end_time": "2020-07-12T00:10:23.551200Z",
     "start_time": "2020-07-12T00:10:23.545607Z"
    }
   },
   "outputs": [],
   "source": [
    "import os"
   ]
  },
  {
   "cell_type": "code",
   "execution_count": 5,
   "metadata": {
    "ExecuteTime": {
     "end_time": "2019-11-16T04:26:41.348354Z",
     "start_time": "2019-11-16T04:26:41.326392Z"
    }
   },
   "outputs": [],
   "source": [
    "def search(path):\n",
    "    res = ''\n",
    "    for i in os.listdir(path):\n",
    "        #print(i)\n",
    "        if i == 'include.txt':\n",
    "            res =  res+'!'+path[1:]+'/*.*\\n'\n",
    "        elif os.path.isdir(path+'/'+i):\n",
    "            newpath = path+'/'+i\n",
    "            #print('newpath:',path)\n",
    "            newres = search(newpath)\n",
    "            res = res+newres\n",
    "    return res"
   ]
  },
  {
   "cell_type": "code",
   "execution_count": 6,
   "metadata": {
    "ExecuteTime": {
     "end_time": "2019-11-16T04:26:41.992555Z",
     "start_time": "2019-11-16T04:26:41.976721Z"
    }
   },
   "outputs": [],
   "source": [
    "res = search('.')"
   ]
  },
  {
   "cell_type": "code",
   "execution_count": 7,
   "metadata": {
    "ExecuteTime": {
     "end_time": "2019-11-16T04:26:42.781764Z",
     "start_time": "2019-11-16T04:26:42.763528Z"
    }
   },
   "outputs": [
    {
     "name": "stdout",
     "output_type": "stream",
     "text": [
      "!/3/3/3_git/*.*\n",
      "!/1_git/*.*\n",
      "!/2/2_git/*.*\n",
      "\n"
     ]
    }
   ],
   "source": [
    "print(res)"
   ]
  },
  {
   "cell_type": "code",
   "execution_count": 11,
   "metadata": {
    "ExecuteTime": {
     "end_time": "2019-11-16T04:40:47.090200Z",
     "start_time": "2019-11-16T04:40:47.078142Z"
    }
   },
   "outputs": [],
   "source": [
    "res = '*.*\\n'+res"
   ]
  },
  {
   "cell_type": "code",
   "execution_count": 8,
   "metadata": {
    "ExecuteTime": {
     "end_time": "2019-11-16T04:36:24.161816Z",
     "start_time": "2019-11-16T04:36:24.151275Z"
    }
   },
   "outputs": [],
   "source": [
    "file = open('py.gitignore','w') \n",
    " \n",
    "file.write(res)  \n",
    " \n",
    "file.close() "
   ]
  },
  {
   "cell_type": "code",
   "execution_count": 1,
   "metadata": {
    "ExecuteTime": {
     "end_time": "2019-11-16T06:19:07.989816Z",
     "start_time": "2019-11-16T06:19:07.981368Z"
    },
    "code_folding": []
   },
   "outputs": [],
   "source": [
    "class easy_gitignore:\n",
    "    \n",
    "    def __init__(self):\n",
    "        import os\n",
    "        self.res = ''\n",
    "\n",
    "    def search(self,\n",
    "               marker, # a file to find. for example: 'include.txt'\n",
    "               path\n",
    "              ):\n",
    "        import os\n",
    "        res = ''\n",
    "        for i in os.listdir(path):\n",
    "            if i == marker:\n",
    "                res =  res+'!'+path[1:]+'/*.*\\n'\n",
    "            elif os.path.isdir(path+'/'+i):\n",
    "                newpath = path+'/'+i\n",
    "                newres = self.search(marker=marker, path = newpath)\n",
    "                res = res+newres\n",
    "        return res\n",
    "    \n",
    "    def run(self,\n",
    "            marker='include.txt',\n",
    "            path='.'\n",
    "           ):\n",
    "        import os\n",
    "        print('searching for markers in folders...')\n",
    "        self.res = self.search(marker,path)\n",
    "        self.res = '*.*\\n'+marker+'\\n'+self.res\n",
    "        print('\\nresults:\\n')\n",
    "        print(self.res)\n",
    "        \n",
    "    def save(self,\n",
    "             filename='py.gitignore'):\n",
    "        print('saving',filename)\n",
    "        file = open(filename,'w') \n",
    "        file.write(self.res)\n",
    "        file.close()\n",
    "        print('done')"
   ]
  },
  {
   "cell_type": "code",
   "execution_count": 2,
   "metadata": {
    "ExecuteTime": {
     "end_time": "2019-11-16T06:19:08.512514Z",
     "start_time": "2019-11-16T06:19:08.496208Z"
    }
   },
   "outputs": [],
   "source": [
    "tool = easy_gitignore()"
   ]
  },
  {
   "cell_type": "code",
   "execution_count": 3,
   "metadata": {
    "ExecuteTime": {
     "end_time": "2019-11-16T06:19:09.057853Z",
     "start_time": "2019-11-16T06:19:09.028881Z"
    }
   },
   "outputs": [
    {
     "name": "stdout",
     "output_type": "stream",
     "text": [
      "searching for markers in folders...\n",
      "\n",
      "results:\n",
      "\n",
      "*.*\n",
      "include.txt\n",
      "!/3/3/3_git/*.*\n",
      "!/1_git/*.*\n",
      "!/2/2_git/*.*\n",
      "\n"
     ]
    }
   ],
   "source": [
    "tool.run()"
   ]
  },
  {
   "cell_type": "code",
   "execution_count": 7,
   "metadata": {
    "ExecuteTime": {
     "end_time": "2019-11-16T05:30:18.679454Z",
     "start_time": "2019-11-16T05:30:18.675664Z"
    }
   },
   "outputs": [
    {
     "name": "stdout",
     "output_type": "stream",
     "text": [
      "saving py.gitignore\n",
      "done\n"
     ]
    }
   ],
   "source": [
    "tool.save()"
   ]
  },
  {
   "cell_type": "code",
   "execution_count": 79,
   "metadata": {
    "ExecuteTime": {
     "end_time": "2019-11-16T08:04:22.278704Z",
     "start_time": "2019-11-16T08:04:22.252420Z"
    },
    "code_folding": []
   },
   "outputs": [],
   "source": [
    "class easy_gitignore:\n",
    "    \n",
    "    def __init__(self):\n",
    "        import os\n",
    "        self.res = ''\n",
    "\n",
    "    def search(self,\n",
    "               marker, # a file to find. for example: 'include.txt'\n",
    "               path\n",
    "              ):\n",
    "        import os\n",
    "        res = ''\n",
    "        include = False\n",
    "        passlst = []\n",
    "        for i in os.listdir(path):\n",
    "            \n",
    "            if i == '.git':\n",
    "                continue\n",
    "            \n",
    "            if os.path.isdir(path+'/'+i):\n",
    "                newpath = path+'/'+i\n",
    "                newres = self.search(marker=marker, path = newpath)\n",
    "                res = res+newres\n",
    "            \n",
    "            elif i == marker:\n",
    "                include = True\n",
    "                passlst.append(i)\n",
    "            \n",
    "        if not include:\n",
    "\n",
    "            for i in os.listdir(path):\n",
    "                if not os.path.isdir(path+'/'+i):\n",
    "                    res =  res+path[1:]+'/'+i+'\\n'\n",
    "\n",
    "        return res\n",
    "    \n",
    "    def run(self,\n",
    "            marker='include.txt',\n",
    "            path='.'\n",
    "           ):\n",
    "        import os\n",
    "        print('searching for markers in folders...')\n",
    "        self.res = self.search(marker,path)\n",
    "        self.res = marker+'\\n'+self.res\n",
    "        self.res = self.res.split('\\n')[::-1]\n",
    "        self.res = '\\n'.join(self.res)\n",
    "        print('\\nresults:\\n')\n",
    "        print(self.res)\n",
    "        \n",
    "    def save(self,\n",
    "             filename='py.gitignore'):\n",
    "        print('saving',filename)\n",
    "        file = open(filename,'w') \n",
    "        file.write(self.res)\n",
    "        file.close()\n",
    "        print('done')"
   ]
  },
  {
   "cell_type": "code",
   "execution_count": 80,
   "metadata": {
    "ExecuteTime": {
     "end_time": "2019-11-16T08:04:28.292554Z",
     "start_time": "2019-11-16T08:04:28.290499Z"
    }
   },
   "outputs": [],
   "source": [
    "tool = easy_gitignore()"
   ]
  },
  {
   "cell_type": "code",
   "execution_count": 81,
   "metadata": {
    "ExecuteTime": {
     "end_time": "2019-11-16T08:04:28.863288Z",
     "start_time": "2019-11-16T08:04:28.853485Z"
    }
   },
   "outputs": [
    {
     "name": "stdout",
     "output_type": "stream",
     "text": [
      "searching for markers in folders...\n",
      "\n",
      "results:\n",
      "\n",
      "\n",
      "/runjupyter.sh\n",
      "/testclass.txt\n",
      "/.gitignore\n",
      "/test.gitignore\n",
      "/dev.ipynb\n",
      "/1.1/other.txt\n",
      "/1.1/1.1/other.txt\n",
      "/1.1/1.0/1.0_git/1.0-subfolder_include\n",
      "/1.2/other.txt\n",
      "/1.2/1.1/other.txt\n",
      "/1.2/1.0/other.txt\n",
      "/1.2/1.0/1.0/other.txt\n",
      "/111.11/test.md\n",
      "/.ipynb_checkpoints/Untitled-checkpoint.ipynb\n",
      "/.ipynb_checkpoints/dev-checkpoint.ipynb\n",
      "include.txt\n"
     ]
    }
   ],
   "source": [
    "tool.run()"
   ]
  },
  {
   "cell_type": "code",
   "execution_count": 64,
   "metadata": {
    "ExecuteTime": {
     "end_time": "2019-11-16T07:41:25.445423Z",
     "start_time": "2019-11-16T07:41:25.434247Z"
    }
   },
   "outputs": [
    {
     "name": "stdout",
     "output_type": "stream",
     "text": [
      "saving .gitignore\n",
      "done\n"
     ]
    }
   ],
   "source": [
    "tool.save('.gitignore')"
   ]
  },
  {
   "cell_type": "code",
   "execution_count": 75,
   "metadata": {
    "ExecuteTime": {
     "end_time": "2019-11-16T07:54:51.488114Z",
     "start_time": "2019-11-16T07:54:51.477759Z"
    }
   },
   "outputs": [
    {
     "data": {
      "text/plain": [
       "'1.1/1.0/1.0_git'"
      ]
     },
     "execution_count": 75,
     "metadata": {},
     "output_type": "execute_result"
    }
   ],
   "source": [
    "os.path.commonpath(['1.1/1.0/1.0_git','1.1/1.0/1.0_git/1.0'])"
   ]
  },
  {
   "cell_type": "code",
   "execution_count": 49,
   "metadata": {
    "ExecuteTime": {
     "end_time": "2019-11-16T08:57:39.523476Z",
     "start_time": "2019-11-16T08:57:39.498207Z"
    },
    "code_folding": []
   },
   "outputs": [],
   "source": [
    "class easy_gitignore:\n",
    "    \n",
    "    def __init__(self):\n",
    "        import os\n",
    "        self.res = ''\n",
    "\n",
    "    def search(self,\n",
    "               marker, # a file to find. for example: 'include.txt'\n",
    "               path\n",
    "              ): \n",
    "        import os\n",
    "        res = ''\n",
    "        passlst = []\n",
    "        hasmarker = False\n",
    "        \n",
    "        # Is there a marker in this path?\n",
    "        for i in os.listdir(path):\n",
    "            \n",
    "            if i == '.git':\n",
    "                continue\n",
    "            \n",
    "            if os.path.isdir(path+'/'+i):\n",
    "                newpath = path+'/'+i\n",
    "                newres,newpasslst = self.search(marker=marker, path = newpath)\n",
    "                res = res+newres\n",
    "                passlst = passlst+newpasslst\n",
    "            \n",
    "            elif i == marker:\n",
    "                hasmarker = True\n",
    "                passlst.append(path[1:]+'/')\n",
    "        #####################################    \n",
    "        if not hasmarker:\n",
    "            \n",
    "            for i in os.listdir(path):\n",
    "                if not os.path.isdir(path+'/'+i):\n",
    "                    res = res+path[1:]+'/'+i+'\\n'\n",
    "\n",
    "        return res,passlst\n",
    "    \n",
    "    def run(self,\n",
    "            marker='include.txt',\n",
    "            path='.'\n",
    "           ):\n",
    "        import os\n",
    "        print('searching for markers in folders...')\n",
    "        self.res,self.passlst = self.search(marker,path)\n",
    "        self.res = marker+'\\n'+self.res\n",
    "        self.res = self.res.split('\\n')[::-1]\n",
    "        self.res = '\\n'.join(self.res)\n",
    "        print('\\nresults:\\n')\n",
    "        print(self.res)\n",
    "        \n",
    "    def save(self,\n",
    "             filename='py.gitignore'):\n",
    "        print('saving',filename)\n",
    "        file = open(filename,'w') \n",
    "        file.write(self.res)\n",
    "        file.close()\n",
    "        print('done')"
   ]
  },
  {
   "cell_type": "code",
   "execution_count": 50,
   "metadata": {
    "ExecuteTime": {
     "end_time": "2019-11-16T08:57:41.193302Z",
     "start_time": "2019-11-16T08:57:41.190740Z"
    }
   },
   "outputs": [],
   "source": [
    "tool = easy_gitignore()"
   ]
  },
  {
   "cell_type": "code",
   "execution_count": 51,
   "metadata": {
    "ExecuteTime": {
     "end_time": "2019-11-16T08:57:41.796096Z",
     "start_time": "2019-11-16T08:57:41.777850Z"
    }
   },
   "outputs": [
    {
     "name": "stdout",
     "output_type": "stream",
     "text": [
      "searching for markers in folders...\n",
      "\n",
      "results:\n",
      "\n",
      "\n",
      "/runjupyter.sh\n",
      "/testclass.txt\n",
      "/.gitignore\n",
      "/test.gitignore\n",
      "/dev.ipynb\n",
      "/1.1/other.txt\n",
      "/1.1/1.1/other.txt\n",
      "/1.1/1.0/1.0_git/1.0_correct-subfolder_include\n",
      "/1.2/other.txt\n",
      "/1.2/1.1/other.txt\n",
      "/1.2/1.0/other.txt\n",
      "/1.2/1.0/1.0/other.txt\n",
      "/111.11/test.md\n",
      "/.ipynb_checkpoints/Untitled-checkpoint.ipynb\n",
      "/.ipynb_checkpoints/dev-checkpoint.ipynb\n",
      "include.txt\n"
     ]
    }
   ],
   "source": [
    "tool.run()"
   ]
  },
  {
   "cell_type": "code",
   "execution_count": 93,
   "metadata": {
    "ExecuteTime": {
     "end_time": "2019-11-16T08:28:02.579251Z",
     "start_time": "2019-11-16T08:28:02.572848Z"
    }
   },
   "outputs": [
    {
     "name": "stdout",
     "output_type": "stream",
     "text": [
      "saving .gitignore\n",
      "done\n"
     ]
    }
   ],
   "source": [
    "tool.save('.gitignore')"
   ]
  },
  {
   "cell_type": "raw",
   "metadata": {},
   "source": [
    "            issub = False\n",
    "            for keeper in passlst:\n",
    "                if keeper == os.path.commonpath([keeper,path]):\n",
    "                    issub = True\n",
    "                \n",
    "                if not issub:"
   ]
  },
  {
   "cell_type": "code",
   "execution_count": 13,
   "metadata": {
    "ExecuteTime": {
     "end_time": "2019-11-16T08:42:32.435713Z",
     "start_time": "2019-11-16T08:42:32.426661Z"
    },
    "scrolled": true
   },
   "outputs": [
    {
     "name": "stdout",
     "output_type": "stream",
     "text": [
      "\n",
      "/runjupyter.sh\n",
      "/testclass.txt\n",
      "/.gitignore\n",
      "/test.gitignore\n",
      "/dev.ipynb\n",
      "/1.1/other.txt\n",
      "/1.1/1.1/other.txt\n",
      "/1.1/1.0/1.0_git/1.0_correct-subfolder_include\n",
      "/1.2/other.txt\n",
      "/1.2/1.1/other.txt\n",
      "/1.2/1.0/other.txt\n",
      "/1.2/1.0/1.0/other.txt\n",
      "/111.11/test.md\n",
      "/.ipynb_checkpoints/Untitled-checkpoint.ipynb\n",
      "/.ipynb_checkpoints/dev-checkpoint.ipynb\n",
      "include.txt\n"
     ]
    }
   ],
   "source": [
    "print(tool.res)"
   ]
  },
  {
   "cell_type": "code",
   "execution_count": 17,
   "metadata": {
    "ExecuteTime": {
     "end_time": "2019-11-16T08:48:00.477617Z",
     "start_time": "2019-11-16T08:48:00.466344Z"
    }
   },
   "outputs": [],
   "source": [
    "import os"
   ]
  },
  {
   "cell_type": "code",
   "execution_count": 52,
   "metadata": {
    "ExecuteTime": {
     "end_time": "2019-11-16T08:58:06.949054Z",
     "start_time": "2019-11-16T08:58:06.941280Z"
    }
   },
   "outputs": [],
   "source": [
    "res = tool.res\n",
    "passlst = tool.passlst\n",
    "res = res.split('\\n')"
   ]
  },
  {
   "cell_type": "code",
   "execution_count": 53,
   "metadata": {
    "ExecuteTime": {
     "end_time": "2019-11-16T08:58:18.499715Z",
     "start_time": "2019-11-16T08:58:18.483833Z"
    }
   },
   "outputs": [
    {
     "data": {
      "text/plain": [
       "'/1.1/1.0/'"
      ]
     },
     "execution_count": 53,
     "metadata": {},
     "output_type": "execute_result"
    }
   ],
   "source": [
    "passlst[2]"
   ]
  },
  {
   "cell_type": "code",
   "execution_count": 54,
   "metadata": {
    "ExecuteTime": {
     "end_time": "2019-11-16T08:58:22.638699Z",
     "start_time": "2019-11-16T08:58:22.625316Z"
    }
   },
   "outputs": [
    {
     "data": {
      "text/plain": [
       "'/1.1/1.0/1.0_git/1.0_correct-subfolder_include'"
      ]
     },
     "execution_count": 54,
     "metadata": {},
     "output_type": "execute_result"
    }
   ],
   "source": [
    "res[8]"
   ]
  },
  {
   "cell_type": "code",
   "execution_count": 55,
   "metadata": {
    "ExecuteTime": {
     "end_time": "2019-11-16T08:58:30.608816Z",
     "start_time": "2019-11-16T08:58:30.604583Z"
    }
   },
   "outputs": [
    {
     "data": {
      "text/plain": [
       "True"
      ]
     },
     "execution_count": 55,
     "metadata": {},
     "output_type": "execute_result"
    }
   ],
   "source": [
    "passlst[2] == res[8][:len(passlst[2])]"
   ]
  },
  {
   "cell_type": "code",
   "execution_count": 58,
   "metadata": {
    "ExecuteTime": {
     "end_time": "2019-11-16T08:59:39.583814Z",
     "start_time": "2019-11-16T08:59:39.578739Z"
    }
   },
   "outputs": [
    {
     "name": "stdout",
     "output_type": "stream",
     "text": [
      "/1.1/1.0/1.0_git/1.0_correct-subfolder_include\n"
     ]
    }
   ],
   "source": [
    "for i in res:\n",
    "    issub = False\n",
    "    for keeper in passlst:\n",
    "        if keeper == i[:len(keeper)]:\n",
    "            issub = True\n",
    "            print(i)"
   ]
  },
  {
   "cell_type": "code",
   "execution_count": 11,
   "metadata": {
    "ExecuteTime": {
     "end_time": "2019-11-16T08:42:10.056243Z",
     "start_time": "2019-11-16T08:42:10.053537Z"
    }
   },
   "outputs": [
    {
     "data": {
      "text/plain": [
       "['./1.0', './1.2/1.0/1.1', './1.1/1.0']"
      ]
     },
     "execution_count": 11,
     "metadata": {},
     "output_type": "execute_result"
    }
   ],
   "source": [
    "tool.passlst"
   ]
  },
  {
   "cell_type": "code",
   "execution_count": 2,
   "metadata": {
    "ExecuteTime": {
     "end_time": "2020-07-12T00:10:51.500959Z",
     "start_time": "2020-07-12T00:10:51.474342Z"
    },
    "code_folding": []
   },
   "outputs": [],
   "source": [
    "class easy_gitignore:\n",
    "    \n",
    "    def __init__(self):\n",
    "        import os\n",
    "        self.res = ''\n",
    "\n",
    "    def search(self,\n",
    "               marker, # a file to find. for example: 'include.txt'\n",
    "               path\n",
    "              ): \n",
    "        import os\n",
    "        res = ''\n",
    "        passlst = []\n",
    "        hasmarker = False\n",
    "        \n",
    "        # Is there a marker in this path?\n",
    "        for i in os.listdir(path):\n",
    "            \n",
    "            if i == '.git':\n",
    "                continue\n",
    "            \n",
    "            if os.path.isdir(path+'/'+i):\n",
    "                newpath = path+'/'+i\n",
    "                newres,newpasslst = self.search(marker=marker, path = newpath)\n",
    "                res = res+newres\n",
    "                passlst = passlst+newpasslst\n",
    "            \n",
    "            elif i == marker:\n",
    "                hasmarker = True\n",
    "                passlst.append(path[1:]+'/')\n",
    "        #####################################    \n",
    "        if not hasmarker:\n",
    "\n",
    "            for i in os.listdir(path):\n",
    "                if not os.path.isdir(path+'/'+i):\n",
    "                    res = res+path[1:]+'/'+i+'\\n'\n",
    "\n",
    "        return res,passlst\n",
    "    \n",
    "    def subfolders(self,\n",
    "                   res,\n",
    "                   passlst,\n",
    "                  ):\n",
    "        res = res.split('\\n')\n",
    "        newres = []\n",
    "        for i in res:\n",
    "            issub = False\n",
    "            for keeper in passlst:\n",
    "                if keeper == i[:len(keeper)]:\n",
    "                    issub = True\n",
    "                    \n",
    "            if not issub:\n",
    "                newres.append(i)\n",
    "        return '\\n'.join(newres)\n",
    "    \n",
    "    def run(self,\n",
    "            marker='include.txt',\n",
    "            path='.'\n",
    "           ):\n",
    "        import os\n",
    "        print('Searching for markers in folders...')\n",
    "        self.res,self.passlst = self.search(marker,path)\n",
    "        self.res = marker+'\\n'+self.res\n",
    "        print('Keeping files inside subfolders...')\n",
    "        self.res = self.subfolders(res=self.res,passlst=self.passlst)\n",
    "        print('\\nFiles to Ignore:\\n')\n",
    "        print(self.res)\n",
    "        \n",
    "    def save(self,\n",
    "             filename='py.gitignore'):\n",
    "        print('saving',filename)\n",
    "        file = open(filename,'w') \n",
    "        file.write(self.res)\n",
    "        file.close()\n",
    "        print('done')"
   ]
  },
  {
   "cell_type": "code",
   "execution_count": 3,
   "metadata": {
    "ExecuteTime": {
     "end_time": "2020-07-12T00:10:58.906063Z",
     "start_time": "2020-07-12T00:10:58.903872Z"
    }
   },
   "outputs": [],
   "source": [
    "tool = easy_gitignore()"
   ]
  },
  {
   "cell_type": "code",
   "execution_count": 4,
   "metadata": {
    "ExecuteTime": {
     "end_time": "2020-07-12T00:11:01.319599Z",
     "start_time": "2020-07-12T00:11:01.315552Z"
    },
    "scrolled": true
   },
   "outputs": [
    {
     "name": "stdout",
     "output_type": "stream",
     "text": [
      "Searching for markers in folders...\n",
      "Keeping files inside subfolders...\n",
      "\n",
      "Files to Ignore:\n",
      "\n",
      "include.txt\n",
      "/3.0/3.2/other.txt\n",
      "/3.0/3.1/3.1.1/other.txt\n",
      "/3.0/3.1/other.txt\n",
      "/3.0/other.txt\n",
      "/2.0/2.2/other.txt\n",
      "/2.0/other.txt\n",
      "/dev.ipynb\n",
      "/.gitignore\n",
      "\n"
     ]
    }
   ],
   "source": [
    "tool.run()"
   ]
  },
  {
   "cell_type": "code",
   "execution_count": 9,
   "metadata": {
    "ExecuteTime": {
     "end_time": "2020-07-12T00:14:12.497267Z",
     "start_time": "2020-07-12T00:14:12.491535Z"
    }
   },
   "outputs": [
    {
     "name": "stdout",
     "output_type": "stream",
     "text": [
      "['/3.0/3.1/3.1.2/', '/1.0/', '/2.0/2.1/']\n"
     ]
    }
   ],
   "source": [
    "print(tool.passlst)"
   ]
  },
  {
   "cell_type": "code",
   "execution_count": 130,
   "metadata": {
    "ExecuteTime": {
     "end_time": "2019-11-16T09:35:32.674968Z",
     "start_time": "2019-11-16T09:35:32.669269Z"
    }
   },
   "outputs": [
    {
     "name": "stdout",
     "output_type": "stream",
     "text": [
      "saving .gitignore\n",
      "done\n"
     ]
    }
   ],
   "source": [
    "tool.save('.gitignore')"
   ]
  },
  {
   "cell_type": "code",
   "execution_count": null,
   "metadata": {},
   "outputs": [],
   "source": []
  }
 ],
 "metadata": {
  "kernelspec": {
   "display_name": "Python 3",
   "language": "python",
   "name": "python3"
  },
  "language_info": {
   "codemirror_mode": {
    "name": "ipython",
    "version": 3
   },
   "file_extension": ".py",
   "mimetype": "text/x-python",
   "name": "python",
   "nbconvert_exporter": "python",
   "pygments_lexer": "ipython3",
   "version": "3.7.7"
  },
  "toc": {
   "base_numbering": 1,
   "nav_menu": {},
   "number_sections": true,
   "sideBar": true,
   "skip_h1_title": false,
   "title_cell": "Table of Contents",
   "title_sidebar": "Contents",
   "toc_cell": false,
   "toc_position": {},
   "toc_section_display": true,
   "toc_window_display": false
  },
  "varInspector": {
   "cols": {
    "lenName": 16,
    "lenType": 16,
    "lenVar": 40
   },
   "kernels_config": {
    "python": {
     "delete_cmd_postfix": "",
     "delete_cmd_prefix": "del ",
     "library": "var_list.py",
     "varRefreshCmd": "print(var_dic_list())"
    },
    "r": {
     "delete_cmd_postfix": ") ",
     "delete_cmd_prefix": "rm(",
     "library": "var_list.r",
     "varRefreshCmd": "cat(var_dic_list()) "
    }
   },
   "types_to_exclude": [
    "module",
    "function",
    "builtin_function_or_method",
    "instance",
    "_Feature"
   ],
   "window_display": false
  }
 },
 "nbformat": 4,
 "nbformat_minor": 2
}
